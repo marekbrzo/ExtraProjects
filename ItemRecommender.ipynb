{
 "metadata": {
  "language_info": {
   "codemirror_mode": {
    "name": "ipython",
    "version": 3
   },
   "file_extension": ".py",
   "mimetype": "text/x-python",
   "name": "python",
   "nbconvert_exporter": "python",
   "pygments_lexer": "ipython3",
   "version": "3.6.8-final"
  },
  "orig_nbformat": 2,
  "kernelspec": {
   "name": "python36864bitmarekvirtualenv9f3df19e9488425ea9982366d8c98114",
   "display_name": "Python 3.6.8 64-bit ('Marek': virtualenv)"
  }
 },
 "nbformat": 4,
 "nbformat_minor": 2,
 "cells": [
  {
   "source": [
    "# Recommender System\n",
    "\n",
    "\n",
    "### Project Description:\n",
    "Using a sample dataset of 20,000 products from an e-commerce store, create a system that when given a specific product, will recommend similar products for the user.\n",
    "### Model Used:\n",
    "KNearest Neighbour used to recommend closest neigbours to specific product.\n",
    "### Date:\n",
    "October 2020\n",
    "### Author:\n",
    "Marek Brzozowki"
   ],
   "cell_type": "markdown",
   "metadata": {}
  },
  {
   "cell_type": "code",
   "execution_count": 1,
   "metadata": {},
   "outputs": [],
   "source": [
    "#Importing packages and libraries\n",
    "import numpy as np\n",
    "import pandas as pd\n",
    "import sklearn\n",
    "\n",
    "import re\n",
    "import nltk\n",
    "import random\n",
    "\n",
    "from sklearn.feature_extraction.text import TfidfVectorizer\n",
    "from sklearn.neighbors import NearestNeighbors\n"
   ]
  },
  {
   "cell_type": "code",
   "execution_count": 2,
   "metadata": {},
   "outputs": [],
   "source": [
    "def lower_all(dataframe):\n",
    "    ### Converts all characters to lowercase\n",
    "    return dataframe.applymap(lambda s:s.lower() if type(s) == str else s)"
   ]
  },
  {
   "cell_type": "code",
   "execution_count": 4,
   "metadata": {},
   "outputs": [],
   "source": [
    "def remove_special(dataframe):\n",
    "    ### Keeps only spacing, letters and numbers\n",
    "    for column in dataframe:\n",
    "        dataframe[column] = dataframe[column].str.strip()\n",
    "        \n",
    "        # Removes possession term\n",
    "        dataframe[column] = dataframe[column].str.replace(\"'s\",'')\n",
    "\n",
    "        #Keeps all alpha-numeric and spacing terms\n",
    "        dataframe[column] = dataframe[column].str.replace(r\"[^a-zA-Z\\d\\_]+\", \" \") \n",
    "\n",
    "        #Removes extras term in the last column\n",
    "        dataframe[column] = dataframe[column].str.replace(\"product_specification\",\"\")     \n",
    "\n",
    "    return dataframe"
   ]
  },
  {
   "cell_type": "code",
   "execution_count": 5,
   "metadata": {},
   "outputs": [],
   "source": [
    "def flatten(x):\n",
    "    ### Flattens nested loops\n",
    "    result = []\n",
    "    for i in x:\n",
    "        if hasattr(i, \"__iter__\") and not isinstance(i, str):\n",
    "            result.extend(flatten(i))\n",
    "        else:\n",
    "            result.append(i)\n",
    "    return result"
   ]
  },
  {
   "cell_type": "code",
   "execution_count": 3,
   "metadata": {},
   "outputs": [],
   "source": [
    "def Convert(string):\n",
    "    ### Converts string to array \n",
    "    li = list(string.split(\" \")) \n",
    "    return li"
   ]
  },
  {
   "cell_type": "code",
   "execution_count": 33,
   "metadata": {},
   "outputs": [],
   "source": [
    "def random_item(length):\n",
    "    return (random.randint(0, length))"
   ]
  },
  {
   "cell_type": "code",
   "execution_count": 6,
   "metadata": {},
   "outputs": [
    {
     "output_type": "execute_result",
     "data": {
      "text/plain": [
       "                            uniq_id            crawl_timestamp  \\\n",
       "0  c2d766ca982eca8304150849735ffef9  2016-03-25 22:59:23 +0000   \n",
       "1  7f7036a6d550aaa89d34c77bd39a5e48  2016-03-25 22:59:23 +0000   \n",
       "\n",
       "                                         product_url  \\\n",
       "0  http://www.flipkart.com/alisha-solid-women-s-c...   \n",
       "1  http://www.flipkart.com/fabhomedecor-fabric-do...   \n",
       "\n",
       "                          product_name  \\\n",
       "0  Alisha Solid Women's Cycling Shorts   \n",
       "1  FabHomeDecor Fabric Double Sofa Bed   \n",
       "\n",
       "                               product_category_tree               pid  \\\n",
       "0  [\"Clothing >> Women's Clothing >> Lingerie, Sl...  SRTEH2FF9KEDEFGF   \n",
       "1  [\"Furniture >> Living Room Furniture >> Sofa B...  SBEEH3QGU7MFYJFY   \n",
       "\n",
       "   retail_price  discounted_price  \\\n",
       "0         999.0             379.0   \n",
       "1       32157.0           22646.0   \n",
       "\n",
       "                                               image  is_FK_Advantage_product  \\\n",
       "0  [\"http://img5a.flixcart.com/image/short/u/4/a/...                    False   \n",
       "1  [\"http://img6a.flixcart.com/image/sofa-bed/j/f...                    False   \n",
       "\n",
       "                                         description       product_rating  \\\n",
       "0  Key Features of Alisha Solid Women's Cycling S...  No rating available   \n",
       "1  FabHomeDecor Fabric Double Sofa Bed (Finish Co...  No rating available   \n",
       "\n",
       "        overall_rating         brand  \\\n",
       "0  No rating available        Alisha   \n",
       "1  No rating available  FabHomeDecor   \n",
       "\n",
       "                              product_specifications  \n",
       "0  {\"product_specification\"=>[{\"key\"=>\"Number of ...  \n",
       "1  {\"product_specification\"=>[{\"key\"=>\"Installati...  "
      ],
      "text/html": "<div>\n<style scoped>\n    .dataframe tbody tr th:only-of-type {\n        vertical-align: middle;\n    }\n\n    .dataframe tbody tr th {\n        vertical-align: top;\n    }\n\n    .dataframe thead th {\n        text-align: right;\n    }\n</style>\n<table border=\"1\" class=\"dataframe\">\n  <thead>\n    <tr style=\"text-align: right;\">\n      <th></th>\n      <th>uniq_id</th>\n      <th>crawl_timestamp</th>\n      <th>product_url</th>\n      <th>product_name</th>\n      <th>product_category_tree</th>\n      <th>pid</th>\n      <th>retail_price</th>\n      <th>discounted_price</th>\n      <th>image</th>\n      <th>is_FK_Advantage_product</th>\n      <th>description</th>\n      <th>product_rating</th>\n      <th>overall_rating</th>\n      <th>brand</th>\n      <th>product_specifications</th>\n    </tr>\n  </thead>\n  <tbody>\n    <tr>\n      <th>0</th>\n      <td>c2d766ca982eca8304150849735ffef9</td>\n      <td>2016-03-25 22:59:23 +0000</td>\n      <td>http://www.flipkart.com/alisha-solid-women-s-c...</td>\n      <td>Alisha Solid Women's Cycling Shorts</td>\n      <td>[\"Clothing &gt;&gt; Women's Clothing &gt;&gt; Lingerie, Sl...</td>\n      <td>SRTEH2FF9KEDEFGF</td>\n      <td>999.0</td>\n      <td>379.0</td>\n      <td>[\"http://img5a.flixcart.com/image/short/u/4/a/...</td>\n      <td>False</td>\n      <td>Key Features of Alisha Solid Women's Cycling S...</td>\n      <td>No rating available</td>\n      <td>No rating available</td>\n      <td>Alisha</td>\n      <td>{\"product_specification\"=&gt;[{\"key\"=&gt;\"Number of ...</td>\n    </tr>\n    <tr>\n      <th>1</th>\n      <td>7f7036a6d550aaa89d34c77bd39a5e48</td>\n      <td>2016-03-25 22:59:23 +0000</td>\n      <td>http://www.flipkart.com/fabhomedecor-fabric-do...</td>\n      <td>FabHomeDecor Fabric Double Sofa Bed</td>\n      <td>[\"Furniture &gt;&gt; Living Room Furniture &gt;&gt; Sofa B...</td>\n      <td>SBEEH3QGU7MFYJFY</td>\n      <td>32157.0</td>\n      <td>22646.0</td>\n      <td>[\"http://img6a.flixcart.com/image/sofa-bed/j/f...</td>\n      <td>False</td>\n      <td>FabHomeDecor Fabric Double Sofa Bed (Finish Co...</td>\n      <td>No rating available</td>\n      <td>No rating available</td>\n      <td>FabHomeDecor</td>\n      <td>{\"product_specification\"=&gt;[{\"key\"=&gt;\"Installati...</td>\n    </tr>\n  </tbody>\n</table>\n</div>"
     },
     "metadata": {},
     "execution_count": 6
    }
   ],
   "source": [
    "# Loading raw data into editor\n",
    "raw_data = pd.read_csv('flipkart_com-ecommerce_sample.csv')\n",
    "raw_data.head(2)"
   ]
  },
  {
   "cell_type": "code",
   "execution_count": 7,
   "metadata": {},
   "outputs": [
    {
     "output_type": "stream",
     "name": "stdout",
     "text": [
      "uniq_id                     object\ncrawl_timestamp             object\nproduct_url                 object\nproduct_name                object\nproduct_category_tree       object\npid                         object\nretail_price               float64\ndiscounted_price           float64\nimage                       object\nis_FK_Advantage_product       bool\ndescription                 object\nproduct_rating              object\noverall_rating              object\nbrand                       object\nproduct_specifications      object\ndtype: object\n\nuniq_id                       0\ncrawl_timestamp               0\nproduct_url                   0\nproduct_name                  0\nproduct_category_tree         0\npid                           0\nretail_price                 78\ndiscounted_price             78\nimage                         3\nis_FK_Advantage_product       0\ndescription                   2\nproduct_rating                0\noverall_rating                0\nbrand                      5864\nproduct_specifications       14\ndtype: int64\n\n        retail_price  discounted_price\ncount   19922.000000      19922.000000\nmean     2979.206104       1973.401767\nstd      9009.639341       7333.586040\nmin        35.000000         35.000000\n25%       666.000000        350.000000\n50%      1040.000000        550.000000\n75%      1999.000000        999.000000\nmax    571230.000000     571230.000000\n\nIndex(['uniq_id', 'crawl_timestamp', 'product_url', 'product_name',\n       'product_category_tree', 'pid', 'retail_price', 'discounted_price',\n       'image', 'is_FK_Advantage_product', 'description', 'product_rating',\n       'overall_rating', 'brand', 'product_specifications'],\n      dtype='object')\n"
     ]
    }
   ],
   "source": [
    "# Data profiling\n",
    "print(raw_data.dtypes,end='\\n\\n')\n",
    "print(raw_data.isnull().sum(),end='\\n\\n')\n",
    "print(raw_data.describe(),end='\\n\\n')\n",
    "print(raw_data.columns)"
   ]
  },
  {
   "cell_type": "code",
   "execution_count": 8,
   "metadata": {},
   "outputs": [
    {
     "output_type": "execute_result",
     "data": {
      "text/plain": [
       "                          product_name  \\\n",
       "0  Alisha Solid Women's Cycling Shorts   \n",
       "1  FabHomeDecor Fabric Double Sofa Bed   \n",
       "\n",
       "                               product_category_tree  \\\n",
       "0  [\"Clothing >> Women's Clothing >> Lingerie, Sl...   \n",
       "1  [\"Furniture >> Living Room Furniture >> Sofa B...   \n",
       "\n",
       "                                         description         brand  \\\n",
       "0  Key Features of Alisha Solid Women's Cycling S...        Alisha   \n",
       "1  FabHomeDecor Fabric Double Sofa Bed (Finish Co...  FabHomeDecor   \n",
       "\n",
       "                              product_specifications  \n",
       "0  {\"product_specification\"=>[{\"key\"=>\"Number of ...  \n",
       "1  {\"product_specification\"=>[{\"key\"=>\"Installati...  "
      ],
      "text/html": "<div>\n<style scoped>\n    .dataframe tbody tr th:only-of-type {\n        vertical-align: middle;\n    }\n\n    .dataframe tbody tr th {\n        vertical-align: top;\n    }\n\n    .dataframe thead th {\n        text-align: right;\n    }\n</style>\n<table border=\"1\" class=\"dataframe\">\n  <thead>\n    <tr style=\"text-align: right;\">\n      <th></th>\n      <th>product_name</th>\n      <th>product_category_tree</th>\n      <th>description</th>\n      <th>brand</th>\n      <th>product_specifications</th>\n    </tr>\n  </thead>\n  <tbody>\n    <tr>\n      <th>0</th>\n      <td>Alisha Solid Women's Cycling Shorts</td>\n      <td>[\"Clothing &gt;&gt; Women's Clothing &gt;&gt; Lingerie, Sl...</td>\n      <td>Key Features of Alisha Solid Women's Cycling S...</td>\n      <td>Alisha</td>\n      <td>{\"product_specification\"=&gt;[{\"key\"=&gt;\"Number of ...</td>\n    </tr>\n    <tr>\n      <th>1</th>\n      <td>FabHomeDecor Fabric Double Sofa Bed</td>\n      <td>[\"Furniture &gt;&gt; Living Room Furniture &gt;&gt; Sofa B...</td>\n      <td>FabHomeDecor Fabric Double Sofa Bed (Finish Co...</td>\n      <td>FabHomeDecor</td>\n      <td>{\"product_specification\"=&gt;[{\"key\"=&gt;\"Installati...</td>\n    </tr>\n  </tbody>\n</table>\n</div>"
     },
     "metadata": {},
     "execution_count": 8
    }
   ],
   "source": [
    "# Removing unneccesary columns\n",
    "clean_v1 = raw_data.drop(['uniq_id', 'crawl_timestamp', 'product_url',\n",
    "       'pid', 'retail_price', 'discounted_price',\n",
    "       'image', 'is_FK_Advantage_product', 'product_rating',\n",
    "       'overall_rating'],axis =1)\n",
    "clean_v1.head(2)"
   ]
  },
  {
   "cell_type": "code",
   "execution_count": 9,
   "metadata": {},
   "outputs": [
    {
     "output_type": "execute_result",
     "data": {
      "text/plain": [
       "                          product_name  \\\n",
       "0  alisha solid women's cycling shorts   \n",
       "1  fabhomedecor fabric double sofa bed   \n",
       "\n",
       "                               product_category_tree  \\\n",
       "0  [\"clothing >> women's clothing >> lingerie, sl...   \n",
       "1  [\"furniture >> living room furniture >> sofa b...   \n",
       "\n",
       "                                         description         brand  \\\n",
       "0  key features of alisha solid women's cycling s...        alisha   \n",
       "1  fabhomedecor fabric double sofa bed (finish co...  fabhomedecor   \n",
       "\n",
       "                              product_specifications  \n",
       "0  {\"product_specification\"=>[{\"key\"=>\"number of ...  \n",
       "1  {\"product_specification\"=>[{\"key\"=>\"installati...  "
      ],
      "text/html": "<div>\n<style scoped>\n    .dataframe tbody tr th:only-of-type {\n        vertical-align: middle;\n    }\n\n    .dataframe tbody tr th {\n        vertical-align: top;\n    }\n\n    .dataframe thead th {\n        text-align: right;\n    }\n</style>\n<table border=\"1\" class=\"dataframe\">\n  <thead>\n    <tr style=\"text-align: right;\">\n      <th></th>\n      <th>product_name</th>\n      <th>product_category_tree</th>\n      <th>description</th>\n      <th>brand</th>\n      <th>product_specifications</th>\n    </tr>\n  </thead>\n  <tbody>\n    <tr>\n      <th>0</th>\n      <td>alisha solid women's cycling shorts</td>\n      <td>[\"clothing &gt;&gt; women's clothing &gt;&gt; lingerie, sl...</td>\n      <td>key features of alisha solid women's cycling s...</td>\n      <td>alisha</td>\n      <td>{\"product_specification\"=&gt;[{\"key\"=&gt;\"number of ...</td>\n    </tr>\n    <tr>\n      <th>1</th>\n      <td>fabhomedecor fabric double sofa bed</td>\n      <td>[\"furniture &gt;&gt; living room furniture &gt;&gt; sofa b...</td>\n      <td>fabhomedecor fabric double sofa bed (finish co...</td>\n      <td>fabhomedecor</td>\n      <td>{\"product_specification\"=&gt;[{\"key\"=&gt;\"installati...</td>\n    </tr>\n  </tbody>\n</table>\n</div>"
     },
     "metadata": {},
     "execution_count": 9
    }
   ],
   "source": [
    "# Lowercase transformation\n",
    "clean_v2 = lower_all(clean_v1)\n",
    "clean_v2.head(2)"
   ]
  },
  {
   "cell_type": "code",
   "execution_count": 10,
   "metadata": {},
   "outputs": [
    {
     "output_type": "execute_result",
     "data": {
      "text/plain": [
       "                          product_name  \\\n",
       "0    alisha solid women cycling shorts   \n",
       "1  fabhomedecor fabric double sofa bed   \n",
       "\n",
       "                               product_category_tree  \\\n",
       "0   clothing women clothing lingerie sleep swimwe...   \n",
       "1   furniture living room furniture sofa beds fut...   \n",
       "\n",
       "                                         description         brand  \\\n",
       "0  key features of alisha solid women cycling sho...        alisha   \n",
       "1  fabhomedecor fabric double sofa bed finish col...  fabhomedecor   \n",
       "\n",
       "                              product_specifications  \n",
       "0    key number of contents in sales package valu...  \n",
       "1    key installation demo details value installa...  "
      ],
      "text/html": "<div>\n<style scoped>\n    .dataframe tbody tr th:only-of-type {\n        vertical-align: middle;\n    }\n\n    .dataframe tbody tr th {\n        vertical-align: top;\n    }\n\n    .dataframe thead th {\n        text-align: right;\n    }\n</style>\n<table border=\"1\" class=\"dataframe\">\n  <thead>\n    <tr style=\"text-align: right;\">\n      <th></th>\n      <th>product_name</th>\n      <th>product_category_tree</th>\n      <th>description</th>\n      <th>brand</th>\n      <th>product_specifications</th>\n    </tr>\n  </thead>\n  <tbody>\n    <tr>\n      <th>0</th>\n      <td>alisha solid women cycling shorts</td>\n      <td>clothing women clothing lingerie sleep swimwe...</td>\n      <td>key features of alisha solid women cycling sho...</td>\n      <td>alisha</td>\n      <td>key number of contents in sales package valu...</td>\n    </tr>\n    <tr>\n      <th>1</th>\n      <td>fabhomedecor fabric double sofa bed</td>\n      <td>furniture living room furniture sofa beds fut...</td>\n      <td>fabhomedecor fabric double sofa bed finish col...</td>\n      <td>fabhomedecor</td>\n      <td>key installation demo details value installa...</td>\n    </tr>\n  </tbody>\n</table>\n</div>"
     },
     "metadata": {},
     "execution_count": 10
    }
   ],
   "source": [
    "# Special character removal\n",
    "clean_v3 = remove_special(clean_v2)\n",
    "clean_v3.head(2)"
   ]
  },
  {
   "cell_type": "code",
   "execution_count": 11,
   "metadata": {},
   "outputs": [],
   "source": [
    "# Cleansed data\n",
    "final_data = clean_v3.copy()"
   ]
  },
  {
   "cell_type": "code",
   "execution_count": 12,
   "metadata": {},
   "outputs": [
    {
     "output_type": "stream",
     "name": "stdout",
     "text": [
      "Number of tags used in TFIDF: 8015\n"
     ]
    }
   ],
   "source": [
    "# Tags to be used a dictionary for TFIDF\n",
    "tags_raw = [item.split() for item in clean_v3['product_category_tree']]\n",
    "tags = list(set(flatten(tags_raw)))\n",
    "\n",
    "print('Number of tags used in TFIDF:', len(tags))"
   ]
  },
  {
   "cell_type": "code",
   "execution_count": 13,
   "metadata": {},
   "outputs": [
    {
     "output_type": "execute_result",
     "data": {
      "text/plain": [
       "array([' clothing women clothing lingerie sleep swimwear shorts alisha shorts alisha solid women cycling shorts ',\n",
       "       ' furniture living room furniture sofa beds futons fabhomedecor fabric double sofa bed finish colo '],\n",
       "      dtype=object)"
      ]
     },
     "metadata": {},
     "execution_count": 13
    }
   ],
   "source": [
    "# Product category array need to transform TFIDF\n",
    "product_category = clean_v3['product_category_tree'].values\n",
    "product_category[0:2]"
   ]
  },
  {
   "cell_type": "code",
   "execution_count": 14,
   "metadata": {},
   "outputs": [],
   "source": [
    "# Performing Term Frequency-Inverse Document Frequency\n",
    "tfidf = TfidfVectorizer(stop_words='english',vocabulary=tags)\n",
    "transform_data = tfidf.fit_transform(product_category)"
   ]
  },
  {
   "cell_type": "code",
   "execution_count": 28,
   "metadata": {},
   "outputs": [],
   "source": [
    "# Model: KNearest Neighbours\n",
    "# Calculating 10 nearest neighbours\n",
    "model_Knn= NearestNeighbors(metric='cosine',algorithm= 'brute', n_neighbors= 10).fit(transform_data)"
   ]
  },
  {
   "cell_type": "code",
   "execution_count": 34,
   "metadata": {},
   "outputs": [],
   "source": [
    "# Randomly picks one item to put into the recommender model\n",
    "# Determines the score of all selections.\n",
    "rand_item =random_item(len(raw_data))\n",
    "input_text = Convert(final_data.iloc[rand_item]['product_name'])\n",
    "result_ratings = model_Knn.kneighbors(tfidf.transform(input_text))"
   ]
  },
  {
   "cell_type": "code",
   "execution_count": 42,
   "metadata": {},
   "outputs": [
    {
     "output_type": "stream",
     "name": "stdout",
     "text": [
      "Original Item: \n Favourite BikerZ FBZ 6LED 59 Cast Iron Front Fog Lamp Unit \n\nRecommended Item\nProduct Number: 7644\nBrand:  Favourite BikerZ\nProduct Name: Favourite BikerZ 3514 RAD air filter Ionic Air Filters For Hero HF Dawn\nProduct Retail Price: 999.0 (INR)\nProduct URL: http://www.flipkart.com/favourite-bikerz-3514-rad-air-filter-ionic-filters-hero-hf-dawn/p/itmehqzykrhuhnar?pid=VAFEHQZYGH5HRJJP\nTags associated with Brand:  ['', 'f', 'filter', 'rad', 'favourite', 'ionic', 'air', 'bikerz', '3514'] \n\nRecommended Item\nProduct Number: 15597\nBrand:  Favourite BikerZ\nProduct Name: Favourite BikerZ FBZ WIPER BLADE 05 Windshield Wiper For Maruti Alto\nProduct Retail Price: 699.0 (INR)\nProduct URL: http://www.flipkart.com/favourite-bikerz-fbz-wiper-blade-05-windshield-maruti-alto/p/itmegkpgymkzbv8t?pid=CWIEGKPGR69BBHZ8\nTags associated with Brand:  ['', '05', 'spares', 'performance', 'spare', 'favourite', 'fbz', 'automotive', 'wiper', 'wipers', 'w', 'bikerz', 'windshield', 'parts', 'accessories', 'car', 'blade'] \n\nRecommended Item\nProduct Number: 10822\nBrand:  Favourite BikerZ\nProduct Name: Favourite BikerZ FBZ MOXI 9340 Customized Handlebar\nProduct Retail Price: 3999.0 (INR)\nProduct URL: http://www.flipkart.com/favourite-bikerz-fbz-moxi-9340-customized-handlebar/p/itmef6g9mmy5ugzy?pid=HBAEF6G94958PFCM\nTags associated with Brand:  ['', 'spares', 'performance', 'bike', '9340', 'bars', 'spare', 'favourite', 'fbz', 'automotive', 'customized', 'handle', 'bikerz', 'moxi', 'parts', 'accessories'] \n\nRecommended Item\nProduct Number: 7895\nBrand:  Favourite BikerZ\nProduct Name: Favourite BikerZ FBZ ROUND 9LED 99 Cast Iron Front Fog Lamp Unit\nProduct Retail Price: 4396.0 (INR)\nProduct URL: http://www.flipkart.com/favourite-bikerz-fbz-round-9led-99-cast-iron-front-fog-lamp-unit/p/itmegkg2wntubqbq?pid=FLUEGKG2YGDSHGV6\nTags associated with Brand:  ['', '9led', 'iron', 'lamps', 'round', 'bike', 'fog', 'fro', 'lighting', 'spare', 'favourite', 'fbz', 'automotive', 'cast', 'bikerz', '99', 'parts', 'accessories', 'car'] \n\nRecommended Item\nProduct Number: 7963\nBrand:  Favourite BikerZ\nProduct Name: Favourite BikerZ FBZ ROUND 9LED 61 Cast Iron Front Fog Lamp Unit\nProduct Retail Price: 4396.0 (INR)\nProduct URL: http://www.flipkart.com/favourite-bikerz-fbz-round-9led-61-cast-iron-front-fog-lamp-unit/p/itmegkg2z5d6bxgr?pid=FLUEGKG238ZGRYZG\nTags associated with Brand:  ['', '9led', 'iron', 'lamps', 'round', 'bike', 'fog', 'fro', 'lighting', 'spare', 'favourite', 'fbz', 'automotive', '61', 'cast', 'bikerz', 'parts', 'accessories', 'car'] \n\nRecommended Item\nProduct Number: 7910\nBrand:  Favourite BikerZ\nProduct Name: Favourite BikerZ FBZ 6LED 51 Cast Iron Front Fog Lamp Unit\nProduct Retail Price: 4596.0 (INR)\nProduct URL: http://www.flipkart.com/favourite-bikerz-fbz-6led-51-cast-iron-front-fog-lamp-unit/p/itmegkg2zevfycbs?pid=FLUEGKG2WHUQJSHT\nTags associated with Brand:  ['', '6led', 'iron', '51', 'lamps', 'bike', 'fog', 'lighting', 'spare', 'favourite', 'fbz', 'automotive', 'cast', 'front', 'bikerz', 'parts', 'accessories', 'car'] \n\nRecommended Item\nProduct Number: 7969\nBrand:  Favourite BikerZ\nProduct Name: Favourite BikerZ FBZ 6LED 59 Cast Iron Front Fog Lamp Unit\nProduct Retail Price: 4596.0 (INR)\nProduct URL: http://www.flipkart.com/favourite-bikerz-fbz-6led-59-cast-iron-front-fog-lamp-unit/p/itmegkg2ta6pfkp5?pid=FLUEGKG2K93HY9TC\nTags associated with Brand:  ['', '6led', 'iron', '59', 'lamps', 'bike', 'fog', 'lighting', 'spare', 'favourite', 'fbz', 'automotive', 'cast', 'front', 'bikerz', 'parts', 'accessories', 'car'] \n\nRecommended Item\nProduct Number: 7897\nBrand:  Favourite BikerZ\nProduct Name: Favourite BikerZ FBZ 6LED 57 Cast Iron Front Fog Lamp Unit\nProduct Retail Price: 4596.0 (INR)\nProduct URL: http://www.flipkart.com/favourite-bikerz-fbz-6led-57-cast-iron-front-fog-lamp-unit/p/itmegkg2dxbngfah?pid=FLUEGKG29CTAHMYC\nTags associated with Brand:  ['', '6led', 'iron', '57', 'lamps', 'bike', 'fog', 'lighting', 'spare', 'favourite', 'fbz', 'automotive', 'cast', 'front', 'bikerz', 'parts', 'accessories', 'car'] \n\nRecommended Item\nProduct Number: 13329\nBrand:  Radiant Bay\nProduct Name: Radiant Bay Flourishing Infinity White Gold Diamond 14 K Ring\nProduct Retail Price: 33004.0 (INR)\nProduct URL: http://www.flipkart.com/radiant-bay-flourishing-infinity-white-gold-diamond-14-k-ring/p/itmedakbujskefd2?pid=RNGEDAKCWFQMQCXU\nTags associated with Brand:  ['', 'rings', 'jewellery'] \n\nRecommended Item\nProduct Number: 13330\nBrand:  DailyObjects\nProduct Name: DailyObjects Back Cover for Apple iPad Mini/Retina Display\nProduct Retail Price: 1999.0 (INR)\nProduct URL: http://www.flipkart.com/dailyobjects-back-cover-apple-ipad-mini-retina-display/p/itme9djnstv4q626?pid=ACCE9DJNJQFKPUAD\nTags associated with Brand:  ['', 'covers', 'cases', 'tablet', 'dailyobjects', 'mobiles', 'accessories'] \n\n"
     ]
    }
   ],
   "source": [
    "# Nearest Neighbour Results\n",
    "print('Original Item: \\n', raw_data.iloc[rand_item]['product_name'],'\\n')\n",
    "\n",
    "for item in result_ratings[1][0]:\n",
    "    print('Recommended Item')\n",
    "    print('Product Number:', item)\n",
    "    print('Brand: ', raw_data.iloc[item]['brand'])\n",
    "    print('Product Name:', raw_data.iloc[item]['product_name'])\n",
    "    print('Product Retail Price:',raw_data.iloc[item]['retail_price'], ('(INR)'))\n",
    "    print('Product URL:', raw_data.iloc[item]['product_url'])\n",
    "    print('Tags associated with Brand: ', list(set(product_category[item].split(' '))) ,'\\n')"
   ]
  }
 ]
}